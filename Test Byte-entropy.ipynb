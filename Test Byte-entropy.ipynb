{
 "cells": [
  {
   "cell_type": "code",
   "execution_count": null,
   "id": "47822014-e7b5-49c7-a7b3-125a94a0724a",
   "metadata": {},
   "outputs": [
    {
     "name": "stdout",
     "output_type": "stream",
     "text": [
      "Got question:  test\n"
     ]
    }
   ],
   "source": [
    "import io\n",
    "import json\n",
    "from PIL import Image\n",
    "from flask import Flask, jsonify, request, render_template, send_from_directory\n",
    "import os\n",
    "from werkzeug.utils import secure_filename\n",
    "import base64\n",
    "from openai import OpenAI\n",
    "from flask_cors import CORS\n",
    "import os\n",
    "from dotenv import load_dotenv\n",
    "load_dotenv()\n",
    "client = OpenAI(base_url=\"https://api.blockentropy.ai/v1\", api_key=os.getenv(\"API_KEY\"))\n",
    "def get_answer2question(question):\n",
    "    print(\"Got question: \", question)\n",
    "    completion = client.chat.completions.create(\n",
    "                model=\"be-70b-instruct-llama3.3\",\n",
    "                messages=[\n",
    "                    {'role': 'system', 'content': 'You are an expert in answering questions based on the provided context.'},\n",
    "                    {'role': 'system', 'content': question}\n",
    "                ],\n",
    "                temperature=0.8\n",
    "    )\n",
    "    print(\"Got completion\")\n",
    "    return completion.choices[0].message.content\n",
    "get_answer2question(\"test\")"
   ]
  },
  {
   "cell_type": "code",
   "execution_count": 2,
   "id": "f6189f01-9ce7-4a30-a189-06ab53182326",
   "metadata": {},
   "outputs": [],
   "source": []
  },
  {
   "cell_type": "code",
   "execution_count": 3,
   "id": "9e634722-d563-4f53-b0e4-85c272575ce3",
   "metadata": {},
   "outputs": [],
   "source": []
  },
  {
   "cell_type": "code",
   "execution_count": null,
   "id": "68e26d70-8248-4163-907a-4613ee5300a4",
   "metadata": {},
   "outputs": [
    {
     "name": "stdout",
     "output_type": "stream",
     "text": [
      "Got question:  test\n"
     ]
    }
   ],
   "source": []
  },
  {
   "cell_type": "code",
   "execution_count": null,
   "id": "7d54f95a-8778-4bdc-be2d-06c23789ce8c",
   "metadata": {},
   "outputs": [],
   "source": []
  }
 ],
 "metadata": {
  "kernelspec": {
   "display_name": "Python 3 (ipykernel)",
   "language": "python",
   "name": "python3"
  },
  "language_info": {
   "codemirror_mode": {
    "name": "ipython",
    "version": 3
   },
   "file_extension": ".py",
   "mimetype": "text/x-python",
   "name": "python",
   "nbconvert_exporter": "python",
   "pygments_lexer": "ipython3",
   "version": "3.10.16"
  }
 },
 "nbformat": 4,
 "nbformat_minor": 5
}
