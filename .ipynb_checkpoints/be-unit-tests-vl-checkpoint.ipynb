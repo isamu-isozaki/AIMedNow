{
 "cells": [
  {
   "cell_type": "code",
   "execution_count": 8,
   "id": "56b918bc",
   "metadata": {},
   "outputs": [],
   "source": [
    "from openai import OpenAI\n",
    "import base64\n",
    "client = OpenAI(base_url='http://96.245.177.243:12410/v1',\n",
    "               api_key=\"none\")\n",
    "\n"
   ]
  },
  {
   "cell_type": "code",
   "execution_count": 12,
   "id": "7df21907",
   "metadata": {},
   "outputs": [
    {
     "name": "stdout",
     "output_type": "stream",
     "text": [
      "ChatCompletion(id='chatcmpl-0', choices=[Choice(finish_reason='stop', index=0, message=ChatCompletionMessage(content='I am neither Llama 405B nor Llama 70B, I am an AI language model created by Alibaba Cloud called Qwen.', role='assistant', function_call=None, tool_calls=None))], created=1742397936, model='Qwen2-VL-7B-Instruct', object='chat.completion', system_fingerprint=None, usage=CompletionUsage(completion_tokens=32, prompt_tokens=34, total_tokens=66))\n"
     ]
    }
   ],
   "source": [
    "completion = client.chat.completions.create(\n",
    "  model=\"qwen2-vl\",\n",
    "  max_tokens=250,\n",
    "  messages=[\n",
    "    {\"role\": \"system\", \"content\": \"You are a helpful assistant.\"},\n",
    "    {\"role\": \"user\", \"content\": \"Are you llama 405b or llama 70b?\"}\n",
    "  ]\n",
    ")\n",
    "\n",
    "print(completion)\n"
   ]
  },
  {
   "cell_type": "code",
   "execution_count": 14,
   "id": "f8aa8ae9-eb7b-4e2c-838b-0633beeb0530",
   "metadata": {},
   "outputs": [
    {
     "name": "stdout",
     "output_type": "stream",
     "text": [
      "This image is a histogram titled \"Histogram of Patient Scores.\" It shows the frequency distribution of patient scores across different score ranges. The x-axis represents the score, ranging from 2 to 8, and the y-axis represents the frequency or number of occurrences.\n",
      "\n",
      "Here's a breakdown of the data:\n",
      "\n",
      "- Score 2: Frequency around 1600\n",
      "- Score 3: Frequency around 3400\n",
      "- Score 4: Frequency around 5900\n",
      "- Score 6: Frequency around 6300 (the highest)\n",
      "- Score 7: Frequency around 400\n",
      "- Score 8: Frequency around 200\n",
      "\n",
      "The histogram indicates that the majority of patients have scores between 4 and 6, with the most common score being 6.\n",
      "Full response: This image is a histogram titled \"Histogram of Patient Scores.\" It shows the frequency distribution of patient scores across different score ranges. The x-axis represents the score, ranging from 2 to 8, and the y-axis represents the frequency or number of occurrences.\n",
      "\n",
      "Here's a breakdown of the data:\n",
      "\n",
      "- Score 2: Frequency around 1600\n",
      "- Score 3: Frequency around 3400\n",
      "- Score 4: Frequency around 5900\n",
      "- Score 6: Frequency around 6300 (the highest)\n",
      "- Score 7: Frequency around 400\n",
      "- Score 8: Frequency around 200\n",
      "\n",
      "The histogram indicates that the majority of patients have scores between 4 and 6, with the most common score being 6.\n"
     ]
    }
   ],
   "source": [
    "# Function to encode the image\n",
    "def encode_image(image_path):\n",
    "  with open(image_path, \"rb\") as image_file:\n",
    "    return base64.b64encode(image_file.read()).decode('utf-8')\n",
    "\n",
    "# Path to your image\n",
    "image_path = \"score_histogram.png\"\n",
    "\n",
    "# Getting the base64 string\n",
    "base64_image = encode_image(image_path)\n",
    "\n",
    "response = client.chat.completions.create(\n",
    "  model=\"qwen2-vl\",\n",
    "  max_tokens=1024,\n",
    "  messages=[\n",
    "    {\n",
    "      \"role\": \"user\",\n",
    "      \"content\": [\n",
    "        {\n",
    "          \"type\": \"text\",\n",
    "          \"text\": \"What is in this image?\",\n",
    "        },\n",
    "        {\n",
    "          \"type\": \"image_url\",\n",
    "          \"image_url\": {\n",
    "            \"url\":  f\"data:image/jpeg;base64,{base64_image}\"\n",
    "          },\n",
    "        },\n",
    "      ],\n",
    "    }\n",
    "  ],\n",
    "  stream=True,\n",
    ")\n",
    "\n",
    "full_response = ''\n",
    "for chunk in response:\n",
    "    if chunk.choices[0].delta.content is not None:\n",
    "        full_response += chunk.choices[0].delta.content\n",
    "        print(chunk.choices[0].delta.content, end='', flush=True)\n",
    "\n",
    "print(\"\\nFull response:\", full_response)  # If you need the complete response\n"
   ]
  },
  {
   "cell_type": "code",
   "execution_count": null,
   "id": "6536d178-a1b1-4558-9d86-e5fa03385e63",
   "metadata": {},
   "outputs": [],
   "source": []
  }
 ],
 "metadata": {
  "kernelspec": {
   "display_name": "Python 3",
   "language": "python",
   "name": "python3"
  },
  "language_info": {
   "codemirror_mode": {
    "name": "ipython",
    "version": 3
   },
   "file_extension": ".py",
   "mimetype": "text/x-python",
   "name": "python",
   "nbconvert_exporter": "python",
   "pygments_lexer": "ipython3",
   "version": "3.9.10"
  }
 },
 "nbformat": 4,
 "nbformat_minor": 5
}
